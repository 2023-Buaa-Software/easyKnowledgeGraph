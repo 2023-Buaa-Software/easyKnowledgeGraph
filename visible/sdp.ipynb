{
 "cells": [
  {
   "cell_type": "code",
   "execution_count": 2,
   "metadata": {},
   "outputs": [
    {
     "name": "stdout",
     "output_type": "stream",
     "text": [
      "sentence: Convulsions that occur after DTaP are caused by a fever.\n",
      "shortest path lenth:  4\n",
      "shortest path:  ['convulsions', 'occur', 'caused', 'by', 'fever']\n"
     ]
    }
   ],
   "source": [
    "import spacy\n",
    "import networkx as nx\n",
    "nlp = spacy.load(\"en_core_web_sm\")\n",
    "\n",
    "text = u'Convulsions that occur after DTaP are caused by a fever.'\n",
    "entity1 = 'Convulsions'.lower()\n",
    "entity2 = 'fever'\n",
    "doc = nlp(text)\n",
    "\n",
    "print('sentence:',format(doc))\n",
    "# Load spacy's dependency tree into a networkx graph\n",
    "edges = []\n",
    "for token in doc:\n",
    "    for child in token.children:\n",
    "        edges.append(('{0}'.format(token.lower_),\n",
    "                      '{0}'.format(child.lower_)))\n",
    "graph = nx.Graph(edges)\n",
    "# Get the length and path\n",
    "print('shortest path lenth: ',nx.shortest_path_length(graph, source=entity1, target=entity2))\n",
    "print('shortest path: ',nx.shortest_path(graph, source=entity1, target=entity2))\n"
   ]
  }
 ],
 "metadata": {
  "kernelspec": {
   "display_name": "Python 3",
   "language": "python",
   "name": "python3"
  },
  "language_info": {
   "codemirror_mode": {
    "name": "ipython",
    "version": 3
   },
   "file_extension": ".py",
   "mimetype": "text/x-python",
   "name": "python",
   "nbconvert_exporter": "python",
   "pygments_lexer": "ipython3",
   "version": "3.11.6"
  }
 },
 "nbformat": 4,
 "nbformat_minor": 2
}
